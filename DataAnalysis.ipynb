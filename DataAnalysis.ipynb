{
  "cells": [
    {
      "cell_type": "markdown",
      "metadata": {
        "id": "view-in-github",
        "colab_type": "text"
      },
      "source": [
        "<a href=\"https://colab.research.google.com/github/shane-downs/shane_portfolio/blob/main/DataAnalysis.ipynb\" target=\"_parent\"><img src=\"https://colab.research.google.com/assets/colab-badge.svg\" alt=\"Open In Colab\"/></a>"
      ]
    },
    {
      "cell_type": "markdown",
      "source": [
        "# Normal Analysis"
      ],
      "metadata": {
        "id": "wWvu0LjVPkjY"
      }
    },
    {
      "cell_type": "markdown",
      "source": [
        "### Configure Analysis\n",
        "___\n",
        "This step configures a number of options:\n",
        "* Directory Path `dir_path`\n",
        "  - path to directory containing participant files"
      ],
      "metadata": {
        "id": "Sztc9DizP8L9"
      }
    },
    {
      "cell_type": "code",
      "source": [
        "from posixpath import splitext\n",
        "import csv\n",
        "import os\n",
        "config = {\n",
        "    \"dir_path\": \"./dir\",\n",
        "    \"phase_count\": 3,\n",
        "}\n",
        "\n",
        "# Filter out non-csv files and sort them\n",
        "dir_path = config['dir_path']\n",
        "unsorted_paths = os.listdir(config['dir_path'])\n",
        "unsorted_paths = list(filter(lambda file_path: ((os.path.isfile(os.path.join(dir_path, file_path))) and (os.path.splitext(file_path)[1] == '.csv')), unsorted_paths))\n",
        "participant_files = sorted(unsorted_paths, key=lambda path: path.lower())\n",
        "\n",
        "print(f\"Will perform analysis on {len(participant_files)} participants.\")"
      ],
      "metadata": {
        "colab": {
          "base_uri": "https://localhost:8080/"
        },
        "id": "nMGgZ64iPpZf",
        "outputId": "fb24132a-2731-48d4-8e67-04a60c6df229"
      },
      "execution_count": null,
      "outputs": [
        {
          "output_type": "stream",
          "name": "stdout",
          "text": [
            "Will perform analysis on 337 participants.\n"
          ]
        }
      ]
    },
    {
      "cell_type": "markdown",
      "source": [
        "### Parse Events\n",
        "___\n",
        "This step parses each participant's event array."
      ],
      "metadata": {
        "id": "kQurNlbfTzek"
      }
    },
    {
      "cell_type": "code",
      "source": [
        "participants = []\n",
        "\n",
        "for participant_file in participant_files:\n",
        "  full_path = os.path.join(dir_path, participant_file)\n",
        "  participant = {\n",
        "      \"full_path\": full_path,\n",
        "      \"name\": participant_file[:-4],\n",
        "      \"events\": [],\n",
        "      \"event_types\": [],\n",
        "      \"excluded\": False,\n",
        "      \"no_phase_1\": None,\n",
        "      \"num_events\": 0,\n",
        "      \"sr\": [],\n",
        "      \"summary\": [],\n",
        "  }\n",
        "\n",
        "  file = open(full_path, \"r\")\n",
        "\n",
        "  # Ensure proper formatting\n",
        "  if file.readline(6) != \"Start:\":\n",
        "    participant['excluded'] = True\n",
        "  else:\n",
        "    current_line = file.readline()\n",
        "\n",
        "    # Skip all lines that don't start with 'LIST OF EVENTS'. Then we will have reached the beginning of event list\n",
        "    while not current_line.startswith(\"LIST OF EVENTS\"):\n",
        "      current_line = file.readline()\n",
        "\n",
        "      if current_line.startswith(\"noPhase1:\"):\n",
        "        participant['no_phase_1'] = bool(int(current_line.rstrip().split()[1]))\n",
        "\n",
        "      if current_line.startswith(\"totalSR:\"):\n",
        "        participant['sr'].append(current_line.rstrip())\n",
        "      if current_line.startswith(\"srPhase1:\"):\n",
        "        participant['sr'].append(current_line.rstrip())\n",
        "      if current_line.startswith(\"srPhase2:\"):\n",
        "        participant['sr'].append(current_line.rstrip())\n",
        "      if current_line.startswith(\"srPhase3:\"):\n",
        "        participant['sr'].append(current_line.rstrip())\n",
        "\n",
        "    current_line = file.readline() # go to the first event\n",
        "\n",
        "    # At this point, the file reader is at the list of events,\n",
        "    # so we neet to keep reading until blank line\n",
        "    while not current_line == \"\\n\":\n",
        "      participant['event_types'].append(current_line.rstrip().split(\": \"))\n",
        "\n",
        "      current_line = file.readline()\n",
        "\n",
        "    # Instead of fixing the format, we will read until a line has a ')' in it,\n",
        "    # marking the beginning of the events list\n",
        "    while \")\" not in current_line:\n",
        "      current_line = file.readline()\n",
        "      last_position = file.tell()\n",
        "\n",
        "    # Rewind file pointer back to beginning of current_line\n",
        "    file.seek(last_position - len(current_line))\n",
        "\n",
        "    # Parse event array\n",
        "\n",
        "    # Below line will take care of:\n",
        "            #   - Filtering out lines with only a newline\n",
        "            #   - Filtering out empty lines ('')\n",
        "            #   - Splitting event and time into tuple\n",
        "            #   - Deleting ')' from each event type ('02)' turns into '02')\n",
        "    participant['events'] = [tuple([event_line.rstrip().split()[0][:-1], int(event_line.rstrip().split()[1])]) for\n",
        "                           event_line\n",
        "                           in file.readlines() if (event_line != '\\n' and event_line != '' and \")\" in event_line)]\n",
        "\n",
        "\n",
        "    participant['num_events'] = len(participant['events'])\n",
        "\n",
        "  # Add participant dict to master participants list\n",
        "  participants.append(participant)\n",
        "\n",
        "print(f\"{len(participants)} participant files parsed into {sum(len(participant['events']) for participant in participants)} total events!\")"
      ],
      "metadata": {
        "colab": {
          "base_uri": "https://localhost:8080/"
        },
        "id": "HWR_uWeTUmqS",
        "outputId": "95c35d25-77c2-4d8b-d1ca-9e97e77d8df4"
      },
      "execution_count": null,
      "outputs": [
        {
          "output_type": "stream",
          "name": "stdout",
          "text": [
            "337 participant files parsed into 525684 total events!\n"
          ]
        }
      ]
    },
    {
      "cell_type": "markdown",
      "source": [
        "### Break into bins\n",
        "___\n",
        "This step will create a `participant_summary` for each participant."
      ],
      "metadata": {
        "id": "7asuwIECeIIb"
      }
    },
    {
      "cell_type": "code",
      "source": [
        "for participant in participants:\n",
        "  participant_summary = {\n",
        "      \"name\": participant['name'],\n",
        "      \"phase_start_times\": (0, 0, 0),\n",
        "      \"phases_offset\": (0, 0, 0),\n",
        "      \"bins\": [],\n",
        "  }\n",
        "\n",
        "  current_phase = 1 if participant['no_phase_1'] else 0\n",
        "  current_phase_start_time = 0\n",
        "  first_sr = True if participant['no_phase_1'] else False\n",
        "  eob_evt = next((ev[0] for ev in participant['event_types'] if ev[1] == \"End of bin\"), \"38\")\n",
        "  p1_start = next((ev[1] for ev in participant['events'] if ev[0] == \"35\"), 0)\n",
        "\n",
        "  participant_summary['phases_offset'] = (\n",
        "      next((time for (event_type, time) in participant['events'] if (event_type == \"30\"))),\n",
        "      next((time for (event_type, time) in participant['events'] if (event_type == \"31\"))),\n",
        "      next((time for (event_type, time) in participant['events'] if (event_type == \"99\"))),\n",
        "  )\n",
        "\n",
        "  # Ensure events are sorted\n",
        "  participant['events'].sort(key=lambda event: event[1])\n",
        "\n",
        "  current_bin = []\n",
        "  for evt in list(filter(lambda ev: ev[1] > p1_start, participant['events'])): # Filtering out events before p1 starts\n",
        "    evt_type, evt_time = evt\n",
        "\n",
        "    # We will break each participant up into a set of bins\n",
        "    # Each bin will contain all of the events that occurred in that bin\n",
        "    current_bin.append(evt)\n",
        "    if evt[0] == eob_evt:\n",
        "      participant_summary['bins'].append(current_bin)\n",
        "      current_bin = []\n",
        "\n",
        "  participant['summary'] = participant_summary\n",
        "\n",
        "# participant = participants[0]['summary']\n",
        "# bins = participant['bins']\n",
        "# t = list(map(lambda evtList: list(filter(lambda evt: evt[0] == \"01\", evtList)), bins))\n",
        "# print(f\"Target: {list(map(lambda l: len(l), t))}\")\n",
        "# for x in t:\n",
        "#   print(x)"
      ],
      "metadata": {
        "id": "pshWZBFxeUcm"
      },
      "execution_count": null,
      "outputs": []
    },
    {
      "cell_type": "markdown",
      "source": [
        "### Latencies\n",
        "---\n",
        "This section will calculate the phase 3 latencies for target responses (time between when p3 starts and first target response in p3 is given)"
      ],
      "metadata": {
        "id": "8dk67SwM_09N"
      }
    },
    {
      "cell_type": "code",
      "source": [
        "for participant in participants:\n",
        "  summary = participant['summary']\n",
        "\n",
        "  p3_start = summary['phases_offset'][1]\n",
        "  evts_in_p3 = list(filter(lambda evts: evts[1] > p3_start, participant['events']))\n",
        "  sorted_evts_p3 = sorted(evts_in_p3, key=lambda evt: evt[1])\n",
        "  first_tr_p3_time = next((time for (evt_type, time) in sorted_evts_p3 if (evt_type == \"01\")), 'none')\n",
        "  p3_latency = \"none\" if first_tr_p3_time == 'none' else (first_tr_p3_time - p3_start) / 1000\n",
        "  participant['summary']['p3_latency'] = p3_latency\n",
        "  # print(f\"{participant['name']} => {p3_latency}\")\n",
        "\n",
        "print(\"Calculated Phase 3 latencies.\")"
      ],
      "metadata": {
        "colab": {
          "base_uri": "https://localhost:8080/"
        },
        "id": "Jb26NJms_9qB",
        "outputId": "a949ca80-a9d0-4f65-ba69-dec39800d594"
      },
      "execution_count": null,
      "outputs": [
        {
          "output_type": "stream",
          "name": "stdout",
          "text": [
            "Calculated Phase 3 latencies.\n"
          ]
        }
      ]
    },
    {
      "cell_type": "markdown",
      "source": [
        "### Exclude Participants\n",
        "___\n",
        "This step will exclude certain participants according to given criteria."
      ],
      "metadata": {
        "id": "vAGUATC0y51F"
      }
    },
    {
      "cell_type": "code",
      "source": [
        "for participant in participants:\n",
        "\n",
        "  \"\"\"\n",
        "    Exclusion Criterion #1\n",
        "    ----------------------\n",
        "    - There are zero target and zero alt responses in the last 2 minutes of Phase 1.\n",
        "  \"\"\"\n",
        "\n",
        "  phase_1_end = participant['summary']['phases_offset'][0]\n",
        "  phase_1_last_2_mins = phase_1_end - 120000 if phase_1_end - 120000 > 0 else 0\n",
        "\n",
        "  # Target responses (tr) & Alt responses (ar) in the last 2 minutes of P1\n",
        "  last_2_mins_tr_p1 = list(\n",
        "      filter(lambda evt: evt[0] == \"01\" and phase_1_last_2_mins <= evt[1] <= phase_1_end, participant['events'])\n",
        "  )\n",
        "  last_2_mins_ar_p1 = list(\n",
        "      filter(lambda evt: evt[0] == \"02\" and phase_1_last_2_mins <= evt[1] <= phase_1_end, participant['events'])\n",
        "  )\n",
        "  if len(last_2_mins_tr_p1) == 0 and len(last_2_mins_ar_p1) == 0:\n",
        "    participant['excluded'] = True\n",
        "    participant['exclusion_reason'] = \"Zero TR & AR in last 2 mins of P1\"\n",
        "\n",
        "\n",
        "  \"\"\"\n",
        "    Exclusion Criterion #2\n",
        "    ----------------------\n",
        "    - There are zero target and zero alt responses in the last 2 minutes of Phase 2.\n",
        "  \"\"\"\n",
        "\n",
        "  phase_2_end = participant['summary']['phases_offset'][1]\n",
        "  phase_2_last_2_mins = phase_2_end - 120000\n",
        "\n",
        "  # Target responses (tr) & Alt responses (ar) in the last 2 minutes of P1\n",
        "  last_2_mins_tr_p2 = list(\n",
        "      filter(lambda evt: evt[0] == \"01\" and phase_2_last_2_mins <= evt[1] <= phase_2_end, participant['events'])\n",
        "  )\n",
        "  last_2_mins_ar_p2 = list(\n",
        "      filter(lambda evt: evt[0] == \"02\" and phase_2_last_2_mins <= evt[1] <= phase_2_end, participant['events'])\n",
        "  )\n",
        "  if len(last_2_mins_tr_p2) == 0 and len(last_2_mins_ar_p2) == 0:\n",
        "    participant['excluded'] = True\n",
        "    participant['exclusion_reason'] = \"Zero TR & AR in last 2 mins of P2\"\n",
        "\n",
        "\n",
        "  \"\"\"\n",
        "    Exclusion Criterion #3\n",
        "    ----------------------\n",
        "    - Target responding has not decreased to 50% of the P1 levels\n",
        "  \"\"\"\n",
        "\n",
        "  # Target responses (tr) in the last 1 minutes of P1\n",
        "\n",
        "  phase_1_last_1_min = phase_1_end - 60000 if phase_1_end - 60000 > 0 else 0\n",
        "\n",
        "  last_1_mins_tr_p1 = list(\n",
        "      filter(lambda evt: evt[0] == \"01\" and phase_1_last_1_min <= evt[1] <= phase_1_end, participant['events'])\n",
        "  )\n",
        "\n",
        "  # Target responses (tr) in the last 1 minutes of P2\n",
        "  phase_2_last_1_min = phase_2_end - 60000 if phase_2_end - 60000 > 0 else 0\n",
        "\n",
        "  last_1_mins_tr_p2 = list(\n",
        "      filter(lambda evt: evt[0] == \"01\" and phase_2_last_1_min <= evt[1] <= phase_2_end, participant['events'])\n",
        "  )\n",
        "\n",
        "  # If responding has not decreased to 50% of P1 -> exclude\n",
        "  if len(last_1_mins_tr_p2) >= (0.5 * len(last_1_mins_tr_p1)):\n",
        "    participant['excluded'] = True\n",
        "    participant['exclusion_reason'] = f\"Target responding has not decreased to 50% of P1 levels. P1 level (last min): {len(last_1_mins_tr_p1)}, P2 level (last min): {len(last_1_mins_tr_p2)}\"\n",
        "\n",
        "\n",
        "excluded_participants = list(filter(lambda participant: participant['excluded'], participants))\n",
        "print(f\"There were {len(list(excluded_participants))} participants excluded.\")\n",
        "print(\"*** NOTE *** This number may be off due to the increased phase duration because of the consummatory response.\")"
      ],
      "metadata": {
        "colab": {
          "base_uri": "https://localhost:8080/"
        },
        "id": "JvdcDFE8zDSC",
        "outputId": "d23b2d1f-a9b0-4372-c650-5e2da4ed4b62"
      },
      "execution_count": null,
      "outputs": [
        {
          "output_type": "stream",
          "name": "stdout",
          "text": [
            "There were 34 participants excluded.\n",
            "*** NOTE *** This number may be off due to the increased phase duration because of the consummatory response.\n"
          ]
        }
      ]
    },
    {
      "cell_type": "markdown",
      "source": [
        "### Create Summary\n",
        "___\n",
        "This step actually produces the output file based on the bin breakdown of each participant."
      ],
      "metadata": {
        "id": "0SDosVNm9N1j"
      }
    },
    {
      "cell_type": "code",
      "source": [
        "out_path = os.path.join(\".\", \"out\", \"summary.csv\")\n",
        "\n",
        "if not os.path.exists(os.path.dirname(out_path)):\n",
        "  try:\n",
        "    os.makedirs(os.path.dirname(out_path), exist_ok=True)\n",
        "\n",
        "  except OSError:\n",
        "    pass\n",
        "\n",
        "with open(out_path, \"w+\") as out_file:\n",
        "  writer = csv.writer(out_file)\n",
        "\n",
        "  # Write each row\n",
        "  writer.writerow(map(lambda participant: participant['name'], participants))\n",
        "\n",
        "  # Excluded?\n",
        "  writer.writerow(map(lambda participant: \"Excluded\" if participant['excluded'] else \"Good\", participants))\n",
        "  writer.writerow(map(lambda participant: participant['exclusion_reason'] if participant['excluded'] else \"\", participants))\n",
        "\n",
        "  # Number of bins\n",
        "  num_bins = len(participants[0]['summary']['bins'])\n",
        "\n",
        "  # Write events\n",
        "  for key, evt_type in participants[0]['event_types']:\n",
        "\n",
        "    # Blank\n",
        "    writer.writerow([])\n",
        "    writer.writerow(map(lambda x: evt_type if x[0] == 0 else \"\", enumerate(participants)))\n",
        "\n",
        "    for phase in range(3):\n",
        "\n",
        "      writer.writerow(map(lambda x: f\"Phase {phase + 1}\" if x[0] == 0 else \"\", enumerate(participants)))\n",
        "\n",
        "      for bin_in_phase in range(int(num_bins / config['phase_count'])):\n",
        "\n",
        "        total_bin_idx = (phase * (int(num_bins / config['phase_count']))) + bin_in_phase\n",
        "        evts_in_bin = list(map(lambda participant: participant['summary']['bins'][total_bin_idx], participants))\n",
        "        specific_evts = [len(list(filter(lambda evt: evt[0] == key, evt_list))) for evt_list in evts_in_bin]\n",
        "        writer.writerow(specific_evts)\n",
        "\n",
        "  # Write Phase Durations\n",
        "  writer.writerow(map(lambda x: f\"Phase Durations\" if x[0] == 0 else \"\", enumerate(participants)))\n",
        "  writer.writerow([])\n",
        "  for phase in range(config['phase_count']):\n",
        "    writer.writerow(map(lambda x: f\"Phase {phase + 1}\" if x[0] == 0 else \"\", enumerate(participants)))\n",
        "    current_phase_durations = []\n",
        "    for participant in participants:\n",
        "      phase_start = participant['summary']['phases_offset'][phase - 1] if phase - 1 >= 0 else 0\n",
        "      phase_end = participant['summary']['phases_offset'][phase]\n",
        "      current_phase_durations.append((phase_end - phase_start) / 1000)\n",
        "    writer.writerow(current_phase_durations)\n",
        "\n",
        "  # Write latencies\n",
        "  writer.writerow([])\n",
        "  writer.writerow(map(lambda x: \"Phase 3 Latencies\" if x[0] == 0 else \"\", enumerate(participants)))\n",
        "  writer.writerow(map(lambda participant: participant['summary']['p3_latency'], participants))\n",
        "\n",
        "print(f\"Summary file available at {out_path}\")"
      ],
      "metadata": {
        "colab": {
          "base_uri": "https://localhost:8080/"
        },
        "id": "ZkV4__XO9VQ4",
        "outputId": "2a05f166-6eff-49dd-a342-b1b89350cd58"
      },
      "execution_count": null,
      "outputs": [
        {
          "output_type": "stream",
          "name": "stdout",
          "text": [
            "Summary file available at ./out/summary.csv\n"
          ]
        }
      ]
    },
    {
      "cell_type": "markdown",
      "source": [
        "# Other Analyses\n",
        "---\n",
        "\n",
        "This section was created to perform other analyses not included elsewhere."
      ],
      "metadata": {
        "collapsed": false,
        "id": "pBTy2OgKmcc6"
      }
    },
    {
      "cell_type": "markdown",
      "source": [
        "### Reinforcement Count by Minute\n",
        "---\n",
        "_Created: May 17th, 2023 - Matthew Lamperski_ \\\n",
        "_Last Edited: May 17th, 2023 - Matthew Lamperski_\n",
        "\n",
        "Description: This script will produce a breakdown (`./out/data.csv`) of the number of reinforcements (event #17 or #18) during each minute of the given experiment. The script accepts a directory as an input (stored in the `dir_path` variable).\n",
        "\n",
        "Notes: Make sure to have the data files uploaded in the correct place. `.` refers to the folder that you can open and upload to by pressing the folder icon on the left toolbar."
      ],
      "metadata": {
        "collapsed": false,
        "id": "4qIhhnwlmcc7"
      }
    },
    {
      "cell_type": "code",
      "execution_count": null,
      "outputs": [
        {
          "output_type": "stream",
          "name": "stdout",
          "text": [
            "+------------------+--------+--------+--------+--------+--------+--------+--------+--------+--------+--------+--------+--------+--------+--------+\n",
            "| Participant      |   P1.1 |   P1.2 |   P1.3 |   P1.4 |   P1.5 |   P2.1 |   P2.2 |   P2.3 |   P2.4 |   P2.5 |   P3.1 |   P3.2 |   P3.3 |   P3.4 |\n",
            "+==================+========+========+========+========+========+========+========+========+========+========+========+========+========+========+\n",
            "| Participant036-7 |      9 |     13 |     10 |     11 |     12 |     12 |      7 |      9 |      4 |     10 |     13 |     13 |     11 |      0 |\n",
            "+------------------+--------+--------+--------+--------+--------+--------+--------+--------+--------+--------+--------+--------+--------+--------+\n",
            "| Participant034-7 |     18 |     21 |     24 |     20 |     23 |     19 |     19 |     21 |     20 |     17 |     15 |     21 |     18 |      0 |\n",
            "+------------------+--------+--------+--------+--------+--------+--------+--------+--------+--------+--------+--------+--------+--------+--------+\n",
            "| Participant034-8 |     14 |     14 |     12 |     18 |     19 |      9 |     12 |      1 |     17 |     19 |     12 |     15 |     16 |      0 |\n",
            "+------------------+--------+--------+--------+--------+--------+--------+--------+--------+--------+--------+--------+--------+--------+--------+\n",
            "| Participant024-7 |      4 |      0 |     17 |     19 |      4 |     15 |     23 |     19 |     13 |     15 |     15 |     19 |      8 |      0 |\n",
            "+------------------+--------+--------+--------+--------+--------+--------+--------+--------+--------+--------+--------+--------+--------+--------+\n",
            "| Participant032-7 |     13 |     19 |     21 |     20 |     22 |     18 |     23 |     20 |     20 |     22 |     21 |     21 |     24 |      0 |\n",
            "+------------------+--------+--------+--------+--------+--------+--------+--------+--------+--------+--------+--------+--------+--------+--------+\n",
            "| Participant068-8 |     21 |     22 |     21 |     19 |     19 |     12 |     19 |     18 |     19 |     20 |     22 |     20 |     21 |      0 |\n",
            "+------------------+--------+--------+--------+--------+--------+--------+--------+--------+--------+--------+--------+--------+--------+--------+\n",
            "| Participant006-7 |     16 |     13 |      0 |      1 |      0 |      0 |      0 |      0 |     11 |     23 |     20 |     17 |     12 |      0 |\n",
            "+------------------+--------+--------+--------+--------+--------+--------+--------+--------+--------+--------+--------+--------+--------+--------+\n",
            "| Participant137-8 |     18 |     22 |     21 |     25 |     16 |     10 |      0 |      0 |      1 |     22 |     21 |     21 |     19 |      0 |\n",
            "+------------------+--------+--------+--------+--------+--------+--------+--------+--------+--------+--------+--------+--------+--------+--------+\n",
            "| Participant053-8 |     16 |     19 |     24 |     18 |     22 |     17 |     16 |     19 |     18 |     20 |     17 |     21 |     18 |      0 |\n",
            "+------------------+--------+--------+--------+--------+--------+--------+--------+--------+--------+--------+--------+--------+--------+--------+\n",
            "| Participant152-8 |     19 |     18 |     22 |     16 |     20 |     11 |     17 |     19 |     17 |     23 |     17 |     20 |     22 |      0 |\n",
            "+------------------+--------+--------+--------+--------+--------+--------+--------+--------+--------+--------+--------+--------+--------+--------+\n",
            "| Participant001-7 |     22 |     22 |     24 |     24 |     21 |     12 |     21 |     24 |     20 |     25 |     20 |     21 |     24 |      0 |\n",
            "+------------------+--------+--------+--------+--------+--------+--------+--------+--------+--------+--------+--------+--------+--------+--------+\n",
            "| Participant205-8 |     21 |     16 |     23 |     20 |     24 |     16 |     22 |     23 |     20 |     23 |     24 |     21 |     23 |      0 |\n",
            "+------------------+--------+--------+--------+--------+--------+--------+--------+--------+--------+--------+--------+--------+--------+--------+\n",
            "| Participant008-7 |      1 |      2 |      0 |      0 |      0 |      1 |      9 |     10 |     19 |      2 |     23 |     20 |     19 |      0 |\n",
            "+------------------+--------+--------+--------+--------+--------+--------+--------+--------+--------+--------+--------+--------+--------+--------+\n",
            "| Participant005-7 |     24 |     22 |     22 |     24 |     22 |     14 |     24 |     23 |     27 |     22 |     25 |     22 |     24 |      0 |\n",
            "+------------------+--------+--------+--------+--------+--------+--------+--------+--------+--------+--------+--------+--------+--------+--------+\n",
            "| Participant002-7 |     19 |     19 |     17 |     16 |     19 |     16 |     19 |     21 |     18 |     21 |     22 |     19 |     19 |      0 |\n",
            "+------------------+--------+--------+--------+--------+--------+--------+--------+--------+--------+--------+--------+--------+--------+--------+\n",
            "| Participant016-7 |     15 |     23 |     23 |     14 |     26 |     18 |     25 |     27 |     24 |     25 |     27 |     24 |     27 |      0 |\n",
            "+------------------+--------+--------+--------+--------+--------+--------+--------+--------+--------+--------+--------+--------+--------+--------+\n",
            "| Participant015-7 |      7 |     12 |     14 |     13 |      8 |      5 |     15 |     12 |     14 |     10 |     11 |     15 |     14 |      0 |\n",
            "+------------------+--------+--------+--------+--------+--------+--------+--------+--------+--------+--------+--------+--------+--------+--------+\n",
            "| Participant031-7 |      1 |      5 |      9 |     13 |     11 |      5 |     12 |      2 |     11 |     20 |     18 |     23 |     17 |      0 |\n",
            "+------------------+--------+--------+--------+--------+--------+--------+--------+--------+--------+--------+--------+--------+--------+--------+\n",
            "| Participant161-8 |     18 |     20 |     22 |     19 |     21 |     17 |     21 |     19 |     22 |     20 |     20 |     17 |     19 |      0 |\n",
            "+------------------+--------+--------+--------+--------+--------+--------+--------+--------+--------+--------+--------+--------+--------+--------+\n",
            "| Participant026-7 |      7 |      8 |     10 |     10 |      8 |      0 |      2 |      8 |      8 |      5 |      7 |      7 |      9 |      0 |\n",
            "+------------------+--------+--------+--------+--------+--------+--------+--------+--------+--------+--------+--------+--------+--------+--------+\n",
            "| Participant004-7 |     13 |     12 |     19 |     21 |     15 |      0 |      3 |     20 |     18 |     19 |     19 |     18 |     21 |      0 |\n",
            "+------------------+--------+--------+--------+--------+--------+--------+--------+--------+--------+--------+--------+--------+--------+--------+\n",
            "| Participant153-8 |      7 |     12 |     10 |     15 |     11 |      1 |      3 |      8 |      9 |     16 |     12 |     20 |     21 |      0 |\n",
            "+------------------+--------+--------+--------+--------+--------+--------+--------+--------+--------+--------+--------+--------+--------+--------+\n",
            "| Participant102-8 |     10 |     13 |     14 |     16 |     16 |     13 |     14 |     16 |     17 |     14 |     14 |     16 |     16 |      0 |\n",
            "+------------------+--------+--------+--------+--------+--------+--------+--------+--------+--------+--------+--------+--------+--------+--------+\n",
            "| Participant052-8 |     20 |     22 |     19 |     22 |     19 |     16 |     23 |     22 |     21 |     21 |     19 |     22 |     22 |      0 |\n",
            "+------------------+--------+--------+--------+--------+--------+--------+--------+--------+--------+--------+--------+--------+--------+--------+\n",
            "| Participant022-7 |     18 |     13 |     21 |     18 |     19 |     16 |     12 |     19 |     19 |     17 |      7 |      7 |      0 |      0 |\n",
            "+------------------+--------+--------+--------+--------+--------+--------+--------+--------+--------+--------+--------+--------+--------+--------+\n",
            "| Participant018-7 |     18 |     22 |     20 |     19 |     19 |      8 |     19 |     11 |     15 |     17 |     15 |     15 |     13 |      0 |\n",
            "+------------------+--------+--------+--------+--------+--------+--------+--------+--------+--------+--------+--------+--------+--------+--------+\n",
            "| Participant155-8 |      0 |      5 |      6 |      8 |     11 |      3 |     11 |      9 |      8 |      8 |      8 |      6 |      7 |      0 |\n",
            "+------------------+--------+--------+--------+--------+--------+--------+--------+--------+--------+--------+--------+--------+--------+--------+\n",
            "| Participant202-8 |     17 |     13 |     21 |     18 |     20 |     15 |     20 |     20 |     19 |     24 |     20 |     19 |     21 |      0 |\n",
            "+------------------+--------+--------+--------+--------+--------+--------+--------+--------+--------+--------+--------+--------+--------+--------+\n",
            "| Participant035-7 |     12 |     19 |     15 |     19 |     17 |     16 |     15 |     22 |     17 |     18 |     17 |     19 |     18 |      0 |\n",
            "+------------------+--------+--------+--------+--------+--------+--------+--------+--------+--------+--------+--------+--------+--------+--------+\n",
            "| Participant123-8 |     17 |     20 |     16 |     15 |     17 |     14 |     12 |     17 |     17 |     17 |     19 |     15 |     18 |      0 |\n",
            "+------------------+--------+--------+--------+--------+--------+--------+--------+--------+--------+--------+--------+--------+--------+--------+\n",
            "| Participant156-8 |     21 |     27 |     22 |     23 |     25 |     12 |     22 |     23 |     20 |     23 |     25 |     23 |     22 |      0 |\n",
            "+------------------+--------+--------+--------+--------+--------+--------+--------+--------+--------+--------+--------+--------+--------+--------+\n",
            "| Participant141-8 |     10 |     13 |     20 |     18 |     16 |     17 |     17 |     20 |     20 |     20 |     21 |     17 |     19 |      0 |\n",
            "+------------------+--------+--------+--------+--------+--------+--------+--------+--------+--------+--------+--------+--------+--------+--------+\n",
            "| Participant193-8 |     19 |     21 |     23 |     21 |     25 |     12 |     22 |     19 |     23 |     20 |     17 |     24 |     23 |      0 |\n",
            "+------------------+--------+--------+--------+--------+--------+--------+--------+--------+--------+--------+--------+--------+--------+--------+\n",
            "| Participant089-8 |     22 |     21 |     19 |     20 |     21 |     11 |     19 |     16 |     19 |     16 |     18 |     19 |     18 |      0 |\n",
            "+------------------+--------+--------+--------+--------+--------+--------+--------+--------+--------+--------+--------+--------+--------+--------+\n",
            "| Participant010-7 |      8 |     18 |     19 |     20 |     19 |      1 |     21 |     22 |     22 |     21 |     22 |     20 |     21 |      0 |\n",
            "+------------------+--------+--------+--------+--------+--------+--------+--------+--------+--------+--------+--------+--------+--------+--------+\n",
            "| Participant011-7 |     10 |     20 |     14 |     16 |     15 |      7 |     17 |     15 |     17 |     18 |     17 |     18 |     17 |      0 |\n",
            "+------------------+--------+--------+--------+--------+--------+--------+--------+--------+--------+--------+--------+--------+--------+--------+\n",
            "| Participant012-7 |     23 |     24 |     24 |     20 |     25 |      0 |     13 |     20 |     21 |     22 |     20 |     22 |     21 |      0 |\n",
            "+------------------+--------+--------+--------+--------+--------+--------+--------+--------+--------+--------+--------+--------+--------+--------+\n",
            "| Participant160-8 |     21 |     22 |     24 |     26 |     24 |     21 |     27 |     21 |     26 |     23 |     27 |     23 |     24 |      0 |\n",
            "+------------------+--------+--------+--------+--------+--------+--------+--------+--------+--------+--------+--------+--------+--------+--------+\n",
            "| Participant017-7 |     23 |     20 |     21 |     17 |     22 |     18 |      9 |      7 |     11 |     23 |     12 |     23 |     20 |      0 |\n",
            "+------------------+--------+--------+--------+--------+--------+--------+--------+--------+--------+--------+--------+--------+--------+--------+\n",
            "| Participant003-7 |     21 |     20 |     21 |     22 |     23 |     21 |     22 |     21 |     23 |     20 |     23 |     18 |     16 |      0 |\n",
            "+------------------+--------+--------+--------+--------+--------+--------+--------+--------+--------+--------+--------+--------+--------+--------+\n",
            "| Participant100-8 |     19 |     21 |     22 |     17 |     24 |     16 |     22 |     23 |     21 |     23 |     22 |     19 |     16 |      0 |\n",
            "+------------------+--------+--------+--------+--------+--------+--------+--------+--------+--------+--------+--------+--------+--------+--------+\n",
            "| Participant135-8 |      8 |      5 |      9 |     12 |     11 |      7 |      9 |     12 |     12 |     13 |     10 |     10 |      9 |      0 |\n",
            "+------------------+--------+--------+--------+--------+--------+--------+--------+--------+--------+--------+--------+--------+--------+--------+\n",
            "| Participant028-8 |     26 |     20 |     24 |     22 |     22 |     19 |     21 |     20 |     22 |     20 |     23 |     23 |     10 |      0 |\n",
            "+------------------+--------+--------+--------+--------+--------+--------+--------+--------+--------+--------+--------+--------+--------+--------+\n",
            "| Participant191-8 |     23 |     19 |     19 |     22 |     19 |     16 |     18 |     22 |     19 |     24 |     21 |     21 |     20 |      0 |\n",
            "+------------------+--------+--------+--------+--------+--------+--------+--------+--------+--------+--------+--------+--------+--------+--------+\n",
            "| Participant033-7 |     19 |      4 |     15 |     22 |      2 |      0 |      2 |     11 |     20 |      0 |      0 |      0 |      0 |      0 |\n",
            "+------------------+--------+--------+--------+--------+--------+--------+--------+--------+--------+--------+--------+--------+--------+--------+\n",
            "| Participant007-7 |     19 |     22 |     24 |     24 |     20 |      0 |     17 |     21 |     24 |     21 |     25 |     21 |     24 |      0 |\n",
            "+------------------+--------+--------+--------+--------+--------+--------+--------+--------+--------+--------+--------+--------+--------+--------+\n",
            "| Participant162-8 |      0 |      0 |      0 |      0 |      0 |      2 |     10 |      5 |      4 |      6 |      6 |      6 |      9 |      0 |\n",
            "+------------------+--------+--------+--------+--------+--------+--------+--------+--------+--------+--------+--------+--------+--------+--------+\n",
            "| Participant146-8 |     22 |     20 |     20 |     17 |     19 |     17 |     18 |     16 |     19 |     18 |     17 |     17 |     19 |      0 |\n",
            "+------------------+--------+--------+--------+--------+--------+--------+--------+--------+--------+--------+--------+--------+--------+--------+\n",
            "| Participant027-7 |      2 |      3 |     20 |     20 |     22 |     13 |     14 |     18 |     20 |     19 |     24 |     20 |     21 |      0 |\n",
            "+------------------+--------+--------+--------+--------+--------+--------+--------+--------+--------+--------+--------+--------+--------+--------+\n",
            "| Participant065-8 |     25 |     23 |     23 |     27 |     24 |      1 |     21 |     24 |     25 |     24 |     13 |      1 |      0 |      0 |\n",
            "+------------------+--------+--------+--------+--------+--------+--------+--------+--------+--------+--------+--------+--------+--------+--------+\n"
          ]
        }
      ],
      "source": [
        "import os, tabulate, csv\n",
        "\n",
        "dir_path = '../datalab/data6.21-Group7.8/'\n",
        "participant_files = map(lambda rel_path: os.path.join(dir_path, rel_path), os.listdir(dir_path))\n",
        "data = []\n",
        "\n",
        "for participant_file_path in participant_files:\n",
        "    # Check to make sure files analyzed are participant files\n",
        "    if os.path.isfile(participant_file_path) and participant_file_path[-4:] == '.csv':\n",
        "        # Get event array\n",
        "        lines = open(participant_file_path).readlines()\n",
        "        events_idx = lines.index('99: End of session\\n') + 2 # index of first event in array\n",
        "        events_str = lines[events_idx:lines[events_idx:].index('\\n') + events_idx] # gets events (starting w/ events_idx, ending with first newline after)\n",
        "        evts = list(map(lambda evt_str: (int(evt_str.split()[0][0:2]), int(evt_str.split()[1].strip())), events_str))\n",
        "\n",
        "        # Get phase start times and end times. Format: (start_time, end_time)\n",
        "        p1_times = (evts[0][1], evts[next(i for i,evt in enumerate(evts) if evt[0] == 30)][1])\n",
        "        p2_times = (evts[next(i for i,evt in enumerate(evts) if evt[0] == 30)][1], evts[next(i for i,evt in enumerate(evts) if evt[0] == 31)][1])\n",
        "        p3_times = (evts[next(i for i,evt in enumerate(evts) if evt[0] == 31)][1], evts[next(i for i,evt in enumerate(evts) if evt[0] == 99)][1])\n",
        "\n",
        "        # Get num of reinforcements during each phase\n",
        "        p1_rei_tot = list(filter(lambda evt: (evt[0] == 17 or evt[0] == 18) and (p1_times[0] < evt[1] < p1_times[1]), evts))\n",
        "        p2_rei_tot = list(filter(lambda evt: (evt[0] == 17 or evt[0] == 18) and (p2_times[0] < evt[1] < p2_times[1]), evts))\n",
        "        p3_rei_tot = list(filter(lambda evt: (evt[0] == 17 or evt[0] == 18) and (p3_times[0] < evt[1] < p3_times[1]), evts))\n",
        "\n",
        "\n",
        "        # Get num of reinforcements per minute\n",
        "\n",
        "        minutes = []\n",
        "\n",
        "        # Phase 1\n",
        "        for i in range(1, 6):\n",
        "            current_minute = (p1_times[0] + (60000 * (i - 1)) if p1_times[0] + (60000 * (i - 1)) >= p1_times[0] else p1_times[0], p1_times[0] + (60000 * i) if p1_times[0] + (60000 * i) <= p1_times[1] else p1_times[1])\n",
        "            minutes.append(len(list(filter(lambda evt: current_minute[0] <= evt[1] <= current_minute[1] and (evt[0] == 17 or evt[0] == 18), evts))))\n",
        "\n",
        "        # Phase 2\n",
        "        for i in range(1, 6):\n",
        "            current_minute = (p2_times[0] + (60000 * (i - 1)) if p2_times[0] + (60000 * (i - 1)) >= p2_times[0] else p2_times[0], p2_times[0] + (60000 * i) if p2_times[0] + (60000 * i) <= p2_times[1] else p2_times[1])\n",
        "            minutes.append(len(list(filter(lambda evt: current_minute[0] <= evt[1] <= current_minute[1] and (evt[0] == 17 or evt[0] == 18), evts))))\n",
        "\n",
        "        # Phase 3\n",
        "        for i in range(1, 5):\n",
        "            current_minute = (p3_times[0] + (60000 * (i - 1)) if p3_times[0] + (60000 * (i - 1)) >= p3_times[0] else p3_times[0], p3_times[0] + (60000 * i) if p3_times[0] + (60000 * i) <= p3_times[1] else p3_times[1])\n",
        "            minutes.append(len(list(filter(lambda evt: current_minute[0] <= evt[1] <= current_minute[1] and (evt[0] == 17 or evt[0] == 18), evts))))\n",
        "\n",
        "        data.append([os.path.basename(participant_file_path)[:-4], *minutes])\n",
        "\n",
        "# Write to data.csv\n",
        "out_path = \"../datalab/out/\"\n",
        "cols = [\"Participant\", \"P1.1\", \"P1.2\", \"P1.3\", \"P1.4\", \"P1.5\", \"P2.1\", \"P2.2\", \"P2.3\", \"P2.4\", \"P2.5\", \"P3.1\", \"P3.2\", \"P3.3\", \"P3.4\"]\n",
        "with open(os.path.join(out_path, 'data.csv'), 'w+') as file:\n",
        "    writer = csv.writer(file)\n",
        "    writer.writerow(cols)\n",
        "    writer.writerows(data)\n",
        "\n",
        "table = tabulate.tabulate(data, tablefmt='grid', headers=cols)\n",
        "print(table)"
      ],
      "metadata": {
        "id": "WM_SMFHkmcc8",
        "outputId": "de2513f4-8ef9-4b33-dd51-edb5f56bd1a2",
        "colab": {
          "base_uri": "https://localhost:8080/"
        }
      }
    },
    {
      "cell_type": "code",
      "source": [
        "from google.colab import drive\n",
        "drive.mount('/content/drive')"
      ],
      "metadata": {
        "id": "L-W3JuggjTMs"
      },
      "execution_count": null,
      "outputs": []
    }
  ],
  "metadata": {
    "kernelspec": {
      "display_name": "Python 3",
      "language": "python",
      "name": "python3"
    },
    "language_info": {
      "codemirror_mode": {
        "name": "ipython",
        "version": 2
      },
      "file_extension": ".py",
      "mimetype": "text/x-python",
      "name": "python",
      "nbconvert_exporter": "python",
      "pygments_lexer": "ipython2",
      "version": "2.7.6"
    },
    "colab": {
      "provenance": [],
      "collapsed_sections": [
        "pBTy2OgKmcc6",
        "4qIhhnwlmcc7"
      ],
      "include_colab_link": true
    }
  },
  "nbformat": 4,
  "nbformat_minor": 0
}